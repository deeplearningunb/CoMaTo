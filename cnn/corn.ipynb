{
 "cells": [
  {
   "cell_type": "code",
   "execution_count": 1,
   "metadata": {},
   "outputs": [],
   "source": [
    "from keras.preprocessing.image import ImageDataGenerator\n",
    "from keras.utils.np_utils import to_categorical \n",
    "from keras.layers import Conv2D, MaxPool2D, Flatten, Dense, Dropout, LeakyReLU\n",
    "from keras.models import Sequential\n",
    "from keras.preprocessing import image\n",
    "from keras.layers.normalization import BatchNormalization\n",
    "import numpy as np\n",
    "import matplotlib.pyplot as plt"
   ]
  },
  {
   "cell_type": "markdown",
   "metadata": {
    "id": "e9A4IAZGb-qC"
   },
   "source": [
    "# Plant"
   ]
  },
  {
   "cell_type": "code",
   "execution_count": 2,
   "metadata": {
    "id": "kF5sYJWuX3BH"
   },
   "outputs": [],
   "source": [
    "specific_train = 'corn'"
   ]
  },
  {
   "cell_type": "markdown",
   "metadata": {},
   "source": [
    "# Definitions"
   ]
  },
  {
   "cell_type": "code",
   "execution_count": 3,
   "metadata": {},
   "outputs": [],
   "source": [
    "image_size = tuple((64, 64))\n",
    "height = image_size[0]\n",
    "width = image_size[1]\n",
    "depth = 3"
   ]
  },
  {
   "cell_type": "markdown",
   "metadata": {
    "id": "NL7VXYyecFtH"
   },
   "source": [
    "# Part 1 - Data Preprocessing"
   ]
  },
  {
   "cell_type": "markdown",
   "metadata": {
    "id": "anu1oI8RcJfE"
   },
   "source": [
    "### Preprocessing the Training set"
   ]
  },
  {
   "cell_type": "code",
   "execution_count": 4,
   "metadata": {
    "id": "Ts-KG1fSX2wr"
   },
   "outputs": [
    {
     "name": "stdout",
     "output_type": "stream",
     "text": [
      "Found 4088 images belonging to 4 classes.\n"
     ]
    }
   ],
   "source": [
    "\n",
    "train_datagen = ImageDataGenerator(rescale = 1./255,\n",
    "                                   shear_range = 0.2,\n",
    "                                   zoom_range = 0.2,\n",
    "                                   horizontal_flip = True)\n",
    "training_set = train_datagen.flow_from_directory('../dataset/train_images/' + specific_train,\n",
    "                                                 target_size = image_size,\n",
    "                                                 batch_size = 32)"
   ]
  },
  {
   "cell_type": "code",
   "execution_count": 5,
   "metadata": {},
   "outputs": [
    {
     "data": {
      "text/plain": [
       "{'blight': 0, 'gray': 1, 'healthly': 2, 'rust': 3}"
      ]
     },
     "execution_count": 5,
     "metadata": {},
     "output_type": "execute_result"
    }
   ],
   "source": [
    "num_classes = len(training_set.class_indices)\n",
    "train_labels = training_set.classes\n",
    "train_labels = to_categorical(train_labels, num_classes=num_classes)\n",
    "class_indices = training_set.class_indices\n",
    "class_indices"
   ]
  },
  {
   "cell_type": "markdown",
   "metadata": {
    "id": "7Sw2PijSc-bt"
   },
   "source": [
    "### Preprocessing the Test set"
   ]
  },
  {
   "cell_type": "code",
   "execution_count": 6,
   "metadata": {
    "id": "uCi3WOYHX3Df"
   },
   "outputs": [
    {
     "name": "stdout",
     "output_type": "stream",
     "text": [
      "Found 1112 images belonging to 4 classes.\n"
     ]
    }
   ],
   "source": [
    "test_datagen = ImageDataGenerator(rescale = 1./255)\n",
    "test_set = test_datagen.flow_from_directory('../dataset/test_images/' + specific_train,\n",
    "                                            target_size = image_size,\n",
    "                                            batch_size = 32)"
   ]
  },
  {
   "cell_type": "markdown",
   "metadata": {
    "id": "UeHB9v3mdKXd"
   },
   "source": [
    "# Part 2 - Building the CNN\n"
   ]
  },
  {
   "cell_type": "code",
   "execution_count": 7,
   "metadata": {
    "id": "S2e7wjeeaxLI"
   },
   "outputs": [],
   "source": [
    "cnn = Sequential()"
   ]
  },
  {
   "cell_type": "markdown",
   "metadata": {
    "id": "MSNdJrKDdknx"
   },
   "source": [
    "Step 1 - Convolution\n"
   ]
  },
  {
   "cell_type": "code",
   "execution_count": 8,
   "metadata": {
    "id": "CGwuFI48axNp"
   },
   "outputs": [],
   "source": [
    "cnn.add(Conv2D(filters=64, kernel_size=(3, 3), padding=\"same\", activation='relu', input_shape=(height, width, depth)))\n",
    "cnn.add(BatchNormalization(axis=-1))"
   ]
  },
  {
   "cell_type": "code",
   "execution_count": 9,
   "metadata": {
    "id": "RCqqfwfhdtHU"
   },
   "outputs": [],
   "source": [
    "cnn.add(MaxPool2D(pool_size=3))\n",
    "cnn.add(Dropout(0.25))"
   ]
  },
  {
   "cell_type": "markdown",
   "metadata": {
    "id": "McXjHLJhdzPp"
   },
   "source": [
    "Adding a second convolutional layer"
   ]
  },
  {
   "cell_type": "code",
   "execution_count": 10,
   "metadata": {
    "id": "0wuF1e0laxP-"
   },
   "outputs": [],
   "source": [
    "cnn.add(Conv2D(filters=64, kernel_size=(3, 3), padding=\"same\", activation='relu'))\n",
    "cnn.add(MaxPool2D(pool_size=3))\n",
    "cnn.add(Dropout(0.10))"
   ]
  },
  {
   "cell_type": "markdown",
   "metadata": {
    "id": "0CJK0-3jd48v"
   },
   "source": [
    "## Flattening"
   ]
  },
  {
   "cell_type": "code",
   "execution_count": 11,
   "metadata": {
    "id": "LCjhqgTYaxSG"
   },
   "outputs": [],
   "source": [
    "cnn.add(Flatten())"
   ]
  },
  {
   "cell_type": "markdown",
   "metadata": {
    "id": "UA4CDNRKd-yv"
   },
   "source": [
    "Step 4 - Full Connection"
   ]
  },
  {
   "cell_type": "code",
   "execution_count": 12,
   "metadata": {
    "id": "OPEMU8DFd6Gg"
   },
   "outputs": [],
   "source": [
    "cnn.add(Dense(units=128, activation=\"relu\"))\n",
    "cnn.add(BatchNormalization())\n",
    "cnn.add(Dropout(0.2))"
   ]
  },
  {
   "cell_type": "markdown",
   "metadata": {
    "id": "oV3cb_PJeBNf"
   },
   "source": [
    "Step 5 - Output Layer"
   ]
  },
  {
   "cell_type": "code",
   "execution_count": 13,
   "metadata": {
    "id": "60ukuOQ1eAJn"
   },
   "outputs": [],
   "source": [
    "cnn.add(Dense(units=num_classes, activation='softmax'))"
   ]
  },
  {
   "cell_type": "markdown",
   "metadata": {
    "id": "BaB4EIsgedCH"
   },
   "source": [
    "# Part 3 - Training the CNN"
   ]
  },
  {
   "cell_type": "markdown",
   "metadata": {
    "id": "sAZJMiJ0ejRt"
   },
   "source": [
    "Compiling the CNN"
   ]
  },
  {
   "cell_type": "code",
   "execution_count": 14,
   "metadata": {
    "id": "ghv0K13uaxUf"
   },
   "outputs": [],
   "source": [
    "cnn.compile(optimizer='adam', loss='categorical_crossentropy', metrics=['accuracy'])"
   ]
  },
  {
   "cell_type": "markdown",
   "metadata": {
    "id": "BmAbjcN9ekDe"
   },
   "source": [
    "Training the CNN on the Training set and evaluating it on the Test set"
   ]
  },
  {
   "cell_type": "code",
   "execution_count": 15,
   "metadata": {
    "id": "GIINmpWVa7WM"
   },
   "outputs": [
    {
     "name": "stdout",
     "output_type": "stream",
     "text": [
      "Epoch 1/20\n",
      "128/128 [==============================] - 45s 255ms/step - loss: 0.5631 - accuracy: 0.7840 - val_loss: 1.3521 - val_accuracy: 0.3103\n",
      "Epoch 2/20\n",
      "128/128 [==============================] - 36s 285ms/step - loss: 0.3565 - accuracy: 0.8497 - val_loss: 1.5382 - val_accuracy: 0.3103\n",
      "Epoch 3/20\n",
      "128/128 [==============================] - 29s 228ms/step - loss: 0.3225 - accuracy: 0.8757 - val_loss: 0.5310 - val_accuracy: 0.8201\n",
      "Epoch 4/20\n",
      "128/128 [==============================] - 32s 251ms/step - loss: 0.2954 - accuracy: 0.8749 - val_loss: 0.4322 - val_accuracy: 0.8112\n",
      "Epoch 5/20\n",
      "128/128 [==============================] - 29s 224ms/step - loss: 0.3024 - accuracy: 0.8856 - val_loss: 1.0101 - val_accuracy: 0.4748\n",
      "Epoch 6/20\n",
      "128/128 [==============================] - 34s 269ms/step - loss: 0.2742 - accuracy: 0.8901 - val_loss: 0.3226 - val_accuracy: 0.8615\n",
      "Epoch 7/20\n",
      "128/128 [==============================] - 33s 259ms/step - loss: 0.2735 - accuracy: 0.8927 - val_loss: 0.4904 - val_accuracy: 0.8192\n",
      "Epoch 8/20\n",
      "128/128 [==============================] - 33s 260ms/step - loss: 0.2504 - accuracy: 0.9010 - val_loss: 0.4503 - val_accuracy: 0.8103\n",
      "Epoch 9/20\n",
      "128/128 [==============================] - 32s 251ms/step - loss: 0.2389 - accuracy: 0.9138 - val_loss: 0.4053 - val_accuracy: 0.8408\n",
      "Epoch 10/20\n",
      "128/128 [==============================] - 32s 252ms/step - loss: 0.2173 - accuracy: 0.9118 - val_loss: 0.3995 - val_accuracy: 0.8273\n",
      "Epoch 11/20\n",
      "128/128 [==============================] - 29s 228ms/step - loss: 0.2354 - accuracy: 0.9002 - val_loss: 0.3834 - val_accuracy: 0.8219\n",
      "Epoch 12/20\n",
      "128/128 [==============================] - 30s 235ms/step - loss: 0.2102 - accuracy: 0.9174 - val_loss: 0.3717 - val_accuracy: 0.8588\n",
      "Epoch 13/20\n",
      "128/128 [==============================] - 31s 240ms/step - loss: 0.2187 - accuracy: 0.9080 - val_loss: 0.5847 - val_accuracy: 0.8058\n",
      "Epoch 14/20\n",
      "128/128 [==============================] - 30s 237ms/step - loss: 0.2107 - accuracy: 0.9158 - val_loss: 0.2777 - val_accuracy: 0.9020\n",
      "Epoch 15/20\n",
      "128/128 [==============================] - 30s 234ms/step - loss: 0.1881 - accuracy: 0.9268 - val_loss: 0.5497 - val_accuracy: 0.7419\n",
      "Epoch 16/20\n",
      "128/128 [==============================] - 30s 231ms/step - loss: 0.2212 - accuracy: 0.9179 - val_loss: 0.2354 - val_accuracy: 0.9002\n",
      "Epoch 17/20\n",
      "128/128 [==============================] - 30s 233ms/step - loss: 0.1824 - accuracy: 0.9320 - val_loss: 0.3786 - val_accuracy: 0.8183\n",
      "Epoch 18/20\n",
      "128/128 [==============================] - 30s 234ms/step - loss: 0.1855 - accuracy: 0.9297 - val_loss: 0.3083 - val_accuracy: 0.8795\n",
      "Epoch 19/20\n",
      "128/128 [==============================] - 29s 230ms/step - loss: 0.1759 - accuracy: 0.9267 - val_loss: 0.2686 - val_accuracy: 0.8858\n",
      "Epoch 20/20\n",
      "128/128 [==============================] - 30s 231ms/step - loss: 0.1761 - accuracy: 0.9250 - val_loss: 0.2865 - val_accuracy: 0.8768\n"
     ]
    }
   ],
   "source": [
    "history = cnn.fit(x = training_set, validation_data = test_set, epochs = 20)"
   ]
  },
  {
   "cell_type": "code",
   "execution_count": 16,
   "metadata": {},
   "outputs": [
    {
     "data": {
      "text/plain": [
       "<matplotlib.legend.Legend at 0x20f1b5a2250>"
      ]
     },
     "execution_count": 16,
     "metadata": {},
     "output_type": "execute_result"
    },
    {
     "data": {
      "image/png": "[encoded data removed]",
      "text/plain": [
       "<Figure size 432x288 with 1 Axes>"
      ]
     },
     "metadata": {
      "needs_background": "light"
     },
     "output_type": "display_data"
    }
   ],
   "source": [
    "plt.plot(history.history['accuracy'], label='accuracy')\n",
    "plt.plot(history.history['val_accuracy'], label = 'val_accuracy')\n",
    "plt.xlabel('Epoch')\n",
    "plt.ylabel('Accuracy')\n",
    "plt.ylim([0.5, 1])\n",
    "plt.legend(loc='lower right')"
   ]
  },
  {
   "cell_type": "markdown",
   "metadata": {},
   "source": [
    "# Saving the model"
   ]
  },
  {
   "cell_type": "code",
   "execution_count": 17,
   "metadata": {},
   "outputs": [
    {
     "name": "stdout",
     "output_type": "stream",
     "text": [
      "INFO:tensorflow:Assets written to: ../model/corn\\assets\n"
     ]
    }
   ],
   "source": [
    "cnn.save(f'../model/{specific_train}')"
   ]
  },
  {
   "cell_type": "code",
   "execution_count": null,
   "metadata": {},
   "outputs": [],
   "source": []
  }
 ],
 "metadata": {
  "colab": {
   "collapsed_sections": [],
   "name": "Processador.ipynb",
   "provenance": []
  },
  "kernelspec": {
   "display_name": "Python 3",
   "language": "python",
   "name": "python3"
  },
  "language_info": {
   "codemirror_mode": {
    "name": "ipython",
    "version": 3
   },
   "file_extension": ".py",
   "mimetype": "text/x-python",
   "name": "python",
   "nbconvert_exporter": "python",
   "pygments_lexer": "ipython3",
   "version": "3.8.10"
  }
 },
 "nbformat": 4,
 "nbformat_minor": 4
}
