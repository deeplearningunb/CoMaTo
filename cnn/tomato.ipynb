{
 "cells": [
  {
   "cell_type": "code",
   "execution_count": 1,
   "metadata": {},
   "outputs": [],
   "source": [
    "from keras.preprocessing.image import ImageDataGenerator\n",
    "from keras.utils.np_utils import to_categorical \n",
    "from keras.layers import Conv2D, MaxPool2D, Flatten, Dense, Dropout, LeakyReLU\n",
    "from keras.models import Sequential\n",
    "from keras.preprocessing import image\n",
    "from keras.layers.normalization import BatchNormalization\n",
    "import numpy as np\n",
    "import matplotlib.pyplot as plt"
   ]
  },
  {
   "cell_type": "markdown",
   "metadata": {
    "id": "e9A4IAZGb-qC"
   },
   "source": [
    "# Plant"
   ]
  },
  {
   "cell_type": "code",
   "execution_count": 2,
   "metadata": {
    "id": "kF5sYJWuX3BH"
   },
   "outputs": [],
   "source": [
    "specific_train = 'tomato'"
   ]
  },
  {
   "cell_type": "markdown",
   "metadata": {},
   "source": [
    "# Definitions"
   ]
  },
  {
   "cell_type": "code",
   "execution_count": 3,
   "metadata": {},
   "outputs": [],
   "source": [
    "image_size = tuple((64, 64))\n",
    "height = image_size[0]\n",
    "width = image_size[1]\n",
    "depth = 3"
   ]
  },
  {
   "cell_type": "markdown",
   "metadata": {
    "id": "NL7VXYyecFtH"
   },
   "source": [
    "# Part 1 - Data Preprocessing"
   ]
  },
  {
   "cell_type": "markdown",
   "metadata": {
    "id": "anu1oI8RcJfE"
   },
   "source": [
    "### Preprocessing the Training set"
   ]
  },
  {
   "cell_type": "code",
   "execution_count": 4,
   "metadata": {
    "id": "Ts-KG1fSX2wr"
   },
   "outputs": [
    {
     "name": "stdout",
     "output_type": "stream",
     "text": [
      "Found 8667 images belonging to 8 classes.\n"
     ]
    }
   ],
   "source": [
    "\n",
    "train_datagen = ImageDataGenerator(rescale = 1./255,\n",
    "                                   shear_range = 0.2,\n",
    "                                   zoom_range = 0.2,\n",
    "                                   horizontal_flip = True)\n",
    "training_set = train_datagen.flow_from_directory('../dataset/train_images/' + specific_train,\n",
    "                                                 target_size = image_size,\n",
    "                                                 batch_size = 32)"
   ]
  },
  {
   "cell_type": "code",
   "execution_count": 5,
   "metadata": {},
   "outputs": [
    {
     "data": {
      "text/plain": [
       "{'bacterial': 0,\n",
       " 'early_blight': 1,\n",
       " 'healhtly': 2,\n",
       " 'late_blight': 3,\n",
       " 'mold': 4,\n",
       " 'mosaic_virus': 5,\n",
       " 'septoria': 6,\n",
       " 'yellow_virus': 7}"
      ]
     },
     "execution_count": 5,
     "metadata": {},
     "output_type": "execute_result"
    }
   ],
   "source": [
    "num_classes = len(training_set.class_indices)\n",
    "train_labels = training_set.classes\n",
    "train_labels = to_categorical(train_labels, num_classes=num_classes)\n",
    "class_indices = training_set.class_indices\n",
    "class_indices"
   ]
  },
  {
   "cell_type": "markdown",
   "metadata": {
    "id": "7Sw2PijSc-bt"
   },
   "source": [
    "### Preprocessing the Test set"
   ]
  },
  {
   "cell_type": "code",
   "execution_count": 6,
   "metadata": {
    "id": "uCi3WOYHX3Df"
   },
   "outputs": [
    {
     "name": "stdout",
     "output_type": "stream",
     "text": [
      "Found 864 images belonging to 8 classes.\n"
     ]
    }
   ],
   "source": [
    "test_datagen = ImageDataGenerator(rescale = 1./255)\n",
    "test_set = test_datagen.flow_from_directory('../dataset/test_images/' + specific_train,\n",
    "                                            target_size = image_size,\n",
    "                                            batch_size = 32)"
   ]
  },
  {
   "cell_type": "markdown",
   "metadata": {
    "id": "UeHB9v3mdKXd"
   },
   "source": [
    "# Part 2 - Building the CNN\n"
   ]
  },
  {
   "cell_type": "code",
   "execution_count": 7,
   "metadata": {
    "id": "S2e7wjeeaxLI"
   },
   "outputs": [],
   "source": [
    "cnn = Sequential()"
   ]
  },
  {
   "cell_type": "markdown",
   "metadata": {
    "id": "MSNdJrKDdknx"
   },
   "source": [
    "Step 1 - Convolution\n"
   ]
  },
  {
   "cell_type": "code",
   "execution_count": 8,
   "metadata": {
    "id": "CGwuFI48axNp"
   },
   "outputs": [],
   "source": [
    "cnn.add(Conv2D(filters=64, kernel_size=(3, 3), padding=\"same\", activation='relu', input_shape=(height, width, depth)))\n",
    "cnn.add(BatchNormalization(axis=-1))"
   ]
  },
  {
   "cell_type": "code",
   "execution_count": 9,
   "metadata": {
    "id": "RCqqfwfhdtHU"
   },
   "outputs": [],
   "source": [
    "cnn.add(MaxPool2D(pool_size=(3, 3)))\n",
    "cnn.add(Dropout(0.25))"
   ]
  },
  {
   "cell_type": "markdown",
   "metadata": {
    "id": "McXjHLJhdzPp"
   },
   "source": [
    "Adding a second convolutional layer"
   ]
  },
  {
   "cell_type": "code",
   "execution_count": 10,
   "metadata": {
    "id": "0wuF1e0laxP-"
   },
   "outputs": [],
   "source": [
    "cnn.add(Conv2D(filters=128, kernel_size=(3, 3), padding=\"same\", activation='relu'))\n",
    "cnn.add(BatchNormalization(axis=-1))\n",
    "cnn.add(MaxPool2D(pool_size=(3, 3)))\n",
    "cnn.add(Dropout(0.2))"
   ]
  },
  {
   "cell_type": "markdown",
   "metadata": {
    "id": "0CJK0-3jd48v"
   },
   "source": [
    "## Flattening"
   ]
  },
  {
   "cell_type": "code",
   "execution_count": 11,
   "metadata": {
    "id": "LCjhqgTYaxSG"
   },
   "outputs": [],
   "source": [
    "cnn.add(Flatten())"
   ]
  },
  {
   "cell_type": "markdown",
   "metadata": {
    "id": "UA4CDNRKd-yv"
   },
   "source": [
    "Step 4 - Full Connection"
   ]
  },
  {
   "cell_type": "code",
   "execution_count": 12,
   "metadata": {
    "id": "OPEMU8DFd6Gg"
   },
   "outputs": [],
   "source": [
    "\n",
    "cnn.add(Dense(units=256, activation=\"relu\"))\n",
    "cnn.add(BatchNormalization())\n",
    "cnn.add(Dropout(0.15))"
   ]
  },
  {
   "cell_type": "markdown",
   "metadata": {
    "id": "oV3cb_PJeBNf"
   },
   "source": [
    "Step 5 - Output Layer"
   ]
  },
  {
   "cell_type": "code",
   "execution_count": 13,
   "metadata": {
    "id": "60ukuOQ1eAJn"
   },
   "outputs": [],
   "source": [
    "cnn.add(Dense(units=num_classes, activation='softmax'))"
   ]
  },
  {
   "cell_type": "markdown",
   "metadata": {
    "id": "BaB4EIsgedCH"
   },
   "source": [
    "# Part 3 - Training the CNN"
   ]
  },
  {
   "cell_type": "markdown",
   "metadata": {
    "id": "sAZJMiJ0ejRt"
   },
   "source": [
    "Compiling the CNN"
   ]
  },
  {
   "cell_type": "code",
   "execution_count": 14,
   "metadata": {
    "id": "ghv0K13uaxUf"
   },
   "outputs": [],
   "source": [
    "cnn.compile(optimizer='adam', loss='categorical_crossentropy', metrics=['accuracy'])"
   ]
  },
  {
   "cell_type": "markdown",
   "metadata": {
    "id": "BmAbjcN9ekDe"
   },
   "source": [
    "Training the CNN on the Training set and evaluating it on the Test set"
   ]
  },
  {
   "cell_type": "code",
   "execution_count": 15,
   "metadata": {
    "id": "GIINmpWVa7WM"
   },
   "outputs": [
    {
     "name": "stdout",
     "output_type": "stream",
     "text": [
      "Epoch 1/25\n",
      "271/271 [==============================] - 114s 331ms/step - loss: 1.2643 - accuracy: 0.5996 - val_loss: 33.4997 - val_accuracy: 0.1620\n",
      "Epoch 2/25\n",
      "271/271 [==============================] - 88s 325ms/step - loss: 0.7055 - accuracy: 0.7694 - val_loss: 4.7761 - val_accuracy: 0.4028\n",
      "Epoch 3/25\n",
      "271/271 [==============================] - 89s 328ms/step - loss: 0.5666 - accuracy: 0.8169 - val_loss: 0.6790 - val_accuracy: 0.7917\n",
      "Epoch 4/25\n",
      "271/271 [==============================] - 89s 329ms/step - loss: 0.4616 - accuracy: 0.8468 - val_loss: 2.0616 - val_accuracy: 0.4861\n",
      "Epoch 5/25\n",
      "271/271 [==============================] - 90s 334ms/step - loss: 0.4185 - accuracy: 0.8575 - val_loss: 0.7449 - val_accuracy: 0.7546\n",
      "Epoch 6/25\n",
      "271/271 [==============================] - 88s 326ms/step - loss: 0.3902 - accuracy: 0.8691 - val_loss: 0.9878 - val_accuracy: 0.6806\n",
      "Epoch 7/25\n",
      "271/271 [==============================] - 89s 328ms/step - loss: 0.3768 - accuracy: 0.8708 - val_loss: 0.6827 - val_accuracy: 0.7743\n",
      "Epoch 8/25\n",
      "271/271 [==============================] - 90s 331ms/step - loss: 0.3492 - accuracy: 0.8839 - val_loss: 0.9961 - val_accuracy: 0.7188\n",
      "Epoch 9/25\n",
      "271/271 [==============================] - 91s 334ms/step - loss: 0.2952 - accuracy: 0.8959 - val_loss: 0.4770 - val_accuracy: 0.8449\n",
      "Epoch 10/25\n",
      "271/271 [==============================] - 89s 330ms/step - loss: 0.2935 - accuracy: 0.8954 - val_loss: 0.8073 - val_accuracy: 0.7569\n",
      "Epoch 11/25\n",
      "271/271 [==============================] - 91s 334ms/step - loss: 0.2788 - accuracy: 0.9064 - val_loss: 1.3619 - val_accuracy: 0.6782\n",
      "Epoch 12/25\n",
      "271/271 [==============================] - 89s 329ms/step - loss: 0.2703 - accuracy: 0.9062 - val_loss: 0.8166 - val_accuracy: 0.7755\n",
      "Epoch 13/25\n",
      "271/271 [==============================] - 89s 329ms/step - loss: 0.2259 - accuracy: 0.9253 - val_loss: 0.4110 - val_accuracy: 0.8843\n",
      "Epoch 14/25\n",
      "271/271 [==============================] - 93s 344ms/step - loss: 0.2201 - accuracy: 0.9234 - val_loss: 2.5808 - val_accuracy: 0.5116\n",
      "Epoch 15/25\n",
      "271/271 [==============================] - 89s 329ms/step - loss: 0.2129 - accuracy: 0.9337 - val_loss: 2.4859 - val_accuracy: 0.5035\n",
      "Epoch 16/25\n",
      "271/271 [==============================] - 90s 330ms/step - loss: 0.2234 - accuracy: 0.9240 - val_loss: 1.0252 - val_accuracy: 0.7106\n",
      "Epoch 17/25\n",
      "271/271 [==============================] - 89s 330ms/step - loss: 0.2047 - accuracy: 0.9292 - val_loss: 0.9862 - val_accuracy: 0.6840\n",
      "Epoch 18/25\n",
      "271/271 [==============================] - 90s 331ms/step - loss: 0.2429 - accuracy: 0.9203 - val_loss: 0.7471 - val_accuracy: 0.7569\n",
      "Epoch 19/25\n",
      "271/271 [==============================] - 89s 329ms/step - loss: 0.1871 - accuracy: 0.9366 - val_loss: 0.9197 - val_accuracy: 0.7500\n",
      "Epoch 20/25\n",
      "271/271 [==============================] - 91s 336ms/step - loss: 0.1865 - accuracy: 0.9346 - val_loss: 0.5067 - val_accuracy: 0.8611\n",
      "Epoch 21/25\n",
      "271/271 [==============================] - 90s 332ms/step - loss: 0.1960 - accuracy: 0.9311 - val_loss: 0.3893 - val_accuracy: 0.9074\n",
      "Epoch 22/25\n",
      "271/271 [==============================] - 91s 336ms/step - loss: 0.1600 - accuracy: 0.9453 - val_loss: 0.5301 - val_accuracy: 0.8495\n",
      "Epoch 23/25\n",
      "271/271 [==============================] - 90s 332ms/step - loss: 0.1414 - accuracy: 0.9499 - val_loss: 2.7747 - val_accuracy: 0.6528\n",
      "Epoch 24/25\n",
      "271/271 [==============================] - 89s 328ms/step - loss: 0.1566 - accuracy: 0.9461 - val_loss: 0.6108 - val_accuracy: 0.8553\n",
      "Epoch 25/25\n",
      "271/271 [==============================] - 90s 330ms/step - loss: 0.1622 - accuracy: 0.9469 - val_loss: 0.7068 - val_accuracy: 0.7894\n"
     ]
    }
   ],
   "source": [
    "history = cnn.fit(x = training_set, validation_data = test_set, epochs = 25)"
   ]
  },
  {
   "cell_type": "code",
   "execution_count": 16,
   "metadata": {},
   "outputs": [
    {
     "data": {
      "text/plain": [
       "<matplotlib.legend.Legend at 0x24ddfa51f40>"
      ]
     },
     "execution_count": 16,
     "metadata": {},
     "output_type": "execute_result"
    },
    {
     "data": {
      "image/png": "[encoded data removed]",
      "text/plain": [
       "<Figure size 432x288 with 1 Axes>"
      ]
     },
     "metadata": {
      "needs_background": "light"
     },
     "output_type": "display_data"
    }
   ],
   "source": [
    "plt.plot(history.history['accuracy'], label='accuracy')\n",
    "plt.plot(history.history['val_accuracy'], label = 'val_accuracy')\n",
    "plt.xlabel('Epoch')\n",
    "plt.ylabel('Accuracy')\n",
    "plt.ylim([0.5, 1])\n",
    "plt.legend(loc='lower right')"
   ]
  },
  {
   "cell_type": "markdown",
   "metadata": {},
   "source": [
    "# Saving the model"
   ]
  },
  {
   "cell_type": "code",
   "execution_count": 17,
   "metadata": {},
   "outputs": [
    {
     "name": "stdout",
     "output_type": "stream",
     "text": [
      "INFO:tensorflow:Assets written to: ../model/tomato\\assets\n"
     ]
    }
   ],
   "source": [
    "cnn.save(f'../model/{specific_train}')"
   ]
  },
  {
   "cell_type": "code",
   "execution_count": null,
   "metadata": {},
   "outputs": [],
   "source": []
  }
 ],
 "metadata": {
  "colab": {
   "collapsed_sections": [],
   "name": "Processador.ipynb",
   "provenance": []
  },
  "kernelspec": {
   "display_name": "Python 3",
   "language": "python",
   "name": "python3"
  },
  "language_info": {
   "codemirror_mode": {
    "name": "ipython",
    "version": 3
   },
   "file_extension": ".py",
   "mimetype": "text/x-python",
   "name": "python",
   "nbconvert_exporter": "python",
   "pygments_lexer": "ipython3",
   "version": "3.8.10"
  }
 },
 "nbformat": 4,
 "nbformat_minor": 4
}
