{
 "cells": [
  {
   "cell_type": "code",
   "execution_count": 1,
   "metadata": {},
   "outputs": [],
   "source": [
    "from keras.preprocessing.image import ImageDataGenerator\n",
    "from keras.utils.np_utils import to_categorical \n",
    "from keras.layers import Conv2D, MaxPool2D, Flatten, Dense, Dropout, LeakyReLU\n",
    "from keras.models import Sequential\n",
    "from keras.preprocessing import image\n",
    "from keras.layers.normalization import BatchNormalization\n",
    "import numpy as np\n",
    "import matplotlib.pyplot as plt"
   ]
  },
  {
   "cell_type": "markdown",
   "metadata": {
    "id": "e9A4IAZGb-qC"
   },
   "source": [
    "# Plant"
   ]
  },
  {
   "cell_type": "code",
   "execution_count": 2,
   "metadata": {
    "id": "kF5sYJWuX3BH"
   },
   "outputs": [],
   "source": [
    "specific_train = 'tomato'"
   ]
  },
  {
   "cell_type": "markdown",
   "metadata": {},
   "source": [
    "# Definitions"
   ]
  },
  {
   "cell_type": "code",
   "execution_count": 3,
   "metadata": {},
   "outputs": [],
   "source": [
    "image_size = tuple((64, 64))\n",
    "height = image_size[0]\n",
    "width = image_size[1]\n",
    "depth = 3"
   ]
  },
  {
   "cell_type": "markdown",
   "metadata": {
    "id": "NL7VXYyecFtH"
   },
   "source": [
    "# Part 1 - Data Preprocessing"
   ]
  },
  {
   "cell_type": "markdown",
   "metadata": {
    "id": "anu1oI8RcJfE"
   },
   "source": [
    "### Preprocessing the Training set"
   ]
  },
  {
   "cell_type": "code",
   "execution_count": 4,
   "metadata": {
    "id": "Ts-KG1fSX2wr"
   },
   "outputs": [
    {
     "name": "stdout",
     "output_type": "stream",
     "text": [
      "Found 667 images belonging to 8 classes.\n"
     ]
    }
   ],
   "source": [
    "\n",
    "train_datagen = ImageDataGenerator(rescale = 1./255,\n",
    "                                   shear_range = 0.2,\n",
    "                                   zoom_range = 0.2,\n",
    "                                   horizontal_flip = True)\n",
    "training_set = train_datagen.flow_from_directory('../dataset/train_images/' + specific_train,\n",
    "                                                 target_size = image_size,\n",
    "                                                 batch_size = 32)"
   ]
  },
  {
   "cell_type": "code",
   "execution_count": 5,
   "metadata": {},
   "outputs": [
    {
     "data": {
      "text/plain": [
       "{'bacterial': 0,\n",
       " 'early_blight': 1,\n",
       " 'healhtly': 2,\n",
       " 'late_blight': 3,\n",
       " 'mold': 4,\n",
       " 'mosaic_virus': 5,\n",
       " 'septoria': 6,\n",
       " 'yellow_virus': 7}"
      ]
     },
     "execution_count": 5,
     "metadata": {},
     "output_type": "execute_result"
    }
   ],
   "source": [
    "num_classes = len(training_set.class_indices)\n",
    "train_labels = training_set.classes\n",
    "train_labels = to_categorical(train_labels, num_classes=num_classes)\n",
    "class_indices = training_set.class_indices\n",
    "class_indices"
   ]
  },
  {
   "cell_type": "markdown",
   "metadata": {
    "id": "7Sw2PijSc-bt"
   },
   "source": [
    "### Preprocessing the Test set"
   ]
  },
  {
   "cell_type": "code",
   "execution_count": 6,
   "metadata": {
    "id": "uCi3WOYHX3Df"
   },
   "outputs": [
    {
     "name": "stdout",
     "output_type": "stream",
     "text": [
      "Found 64 images belonging to 8 classes.\n"
     ]
    }
   ],
   "source": [
    "test_datagen = ImageDataGenerator(rescale = 1./255)\n",
    "test_set = test_datagen.flow_from_directory('../dataset/test_images/' + specific_train,\n",
    "                                            target_size = image_size,\n",
    "                                            batch_size = 32)"
   ]
  },
  {
   "cell_type": "markdown",
   "metadata": {
    "id": "UeHB9v3mdKXd"
   },
   "source": [
    "# Part 2 - Building the CNN\n"
   ]
  },
  {
   "cell_type": "code",
   "execution_count": 7,
   "metadata": {
    "id": "S2e7wjeeaxLI"
   },
   "outputs": [],
   "source": [
    "cnn = Sequential()"
   ]
  },
  {
   "cell_type": "markdown",
   "metadata": {
    "id": "MSNdJrKDdknx"
   },
   "source": [
    "Step 1 - Convolution\n"
   ]
  },
  {
   "cell_type": "code",
   "execution_count": 8,
   "metadata": {
    "id": "CGwuFI48axNp"
   },
   "outputs": [],
   "source": [
    "cnn.add(Conv2D(filters=64, kernel_size=(3, 3), padding=\"same\", activation='relu', input_shape=(height, width, depth)))\n",
    "cnn.add(BatchNormalization(axis=-1))"
   ]
  },
  {
   "cell_type": "code",
   "execution_count": 9,
   "metadata": {
    "id": "RCqqfwfhdtHU"
   },
   "outputs": [],
   "source": [
    "cnn.add(MaxPool2D(pool_size=3))\n",
    "cnn.add(Dropout(0.25))"
   ]
  },
  {
   "cell_type": "markdown",
   "metadata": {
    "id": "McXjHLJhdzPp"
   },
   "source": [
    "Adding a second convolutional layer"
   ]
  },
  {
   "cell_type": "code",
   "execution_count": 10,
   "metadata": {
    "id": "0wuF1e0laxP-"
   },
   "outputs": [],
   "source": [
    "cnn.add(Conv2D(filters=64, kernel_size=32, padding=\"same\", activation='relu'))\n",
    "cnn.add(MaxPool2D(pool_size=3))"
   ]
  },
  {
   "cell_type": "markdown",
   "metadata": {
    "id": "0CJK0-3jd48v"
   },
   "source": [
    "## Flattening"
   ]
  },
  {
   "cell_type": "code",
   "execution_count": 11,
   "metadata": {
    "id": "LCjhqgTYaxSG"
   },
   "outputs": [],
   "source": [
    "cnn.add(Flatten())\n",
    "cnn.add(BatchNormalization())"
   ]
  },
  {
   "cell_type": "markdown",
   "metadata": {
    "id": "UA4CDNRKd-yv"
   },
   "source": [
    "Step 4 - Full Connection"
   ]
  },
  {
   "cell_type": "code",
   "execution_count": 12,
   "metadata": {
    "id": "OPEMU8DFd6Gg"
   },
   "outputs": [],
   "source": [
    "cnn.add(Dense(units=128, activation=\"relu\"))\n",
    "cnn.add(Dropout(0.2))"
   ]
  },
  {
   "cell_type": "markdown",
   "metadata": {
    "id": "oV3cb_PJeBNf"
   },
   "source": [
    "Step 5 - Output Layer"
   ]
  },
  {
   "cell_type": "code",
   "execution_count": 13,
   "metadata": {
    "id": "60ukuOQ1eAJn"
   },
   "outputs": [],
   "source": [
    "cnn.add(Dense(units=num_classes, activation='softmax'))"
   ]
  },
  {
   "cell_type": "markdown",
   "metadata": {
    "id": "BaB4EIsgedCH"
   },
   "source": [
    "# Part 3 - Training the CNN"
   ]
  },
  {
   "cell_type": "markdown",
   "metadata": {
    "id": "sAZJMiJ0ejRt"
   },
   "source": [
    "Compiling the CNN"
   ]
  },
  {
   "cell_type": "code",
   "execution_count": 14,
   "metadata": {
    "id": "ghv0K13uaxUf"
   },
   "outputs": [],
   "source": [
    "cnn.compile(optimizer='adam', loss='categorical_crossentropy', metrics=['accuracy'])"
   ]
  },
  {
   "cell_type": "markdown",
   "metadata": {
    "id": "BmAbjcN9ekDe"
   },
   "source": [
    "Training the CNN on the Training set and evaluating it on the Test set"
   ]
  },
  {
   "cell_type": "code",
   "execution_count": 15,
   "metadata": {
    "id": "GIINmpWVa7WM"
   },
   "outputs": [
    {
     "name": "stdout",
     "output_type": "stream",
     "text": [
      "Epoch 1/15\n",
      "21/21 [==============================] - 11s 512ms/step - loss: 2.9425 - accuracy: 0.1874 - val_loss: 2.0730 - val_accuracy: 0.2031\n",
      "Epoch 2/15\n",
      "21/21 [==============================] - 11s 506ms/step - loss: 2.4512 - accuracy: 0.2429 - val_loss: 2.1508 - val_accuracy: 0.0938\n",
      "Epoch 3/15\n",
      "21/21 [==============================] - 10s 470ms/step - loss: 2.1973 - accuracy: 0.3328 - val_loss: 2.1579 - val_accuracy: 0.1719\n",
      "Epoch 4/15\n",
      "21/21 [==============================] - 10s 453ms/step - loss: 2.0300 - accuracy: 0.3523 - val_loss: 2.5701 - val_accuracy: 0.1250\n",
      "Epoch 5/15\n",
      "21/21 [==============================] - 10s 460ms/step - loss: 1.9459 - accuracy: 0.3568 - val_loss: 2.5732 - val_accuracy: 0.0781\n",
      "Epoch 6/15\n",
      "21/21 [==============================] - 10s 474ms/step - loss: 1.7701 - accuracy: 0.4153 - val_loss: 2.6748 - val_accuracy: 0.0781\n",
      "Epoch 7/15\n",
      "21/21 [==============================] - 9s 452ms/step - loss: 1.6921 - accuracy: 0.4768 - val_loss: 2.9573 - val_accuracy: 0.2188\n",
      "Epoch 8/15\n",
      "21/21 [==============================] - 10s 469ms/step - loss: 1.5611 - accuracy: 0.4753 - val_loss: 2.9533 - val_accuracy: 0.1094\n",
      "Epoch 9/15\n",
      "21/21 [==============================] - 10s 462ms/step - loss: 1.5050 - accuracy: 0.5082 - val_loss: 3.0798 - val_accuracy: 0.1719\n",
      "Epoch 10/15\n",
      "21/21 [==============================] - 10s 463ms/step - loss: 1.3160 - accuracy: 0.5307 - val_loss: 2.7565 - val_accuracy: 0.1250\n",
      "Epoch 11/15\n",
      "21/21 [==============================] - 10s 498ms/step - loss: 1.3581 - accuracy: 0.5397 - val_loss: 3.4883 - val_accuracy: 0.0938\n",
      "Epoch 12/15\n",
      "21/21 [==============================] - 11s 519ms/step - loss: 1.2465 - accuracy: 0.5412 - val_loss: 2.9293 - val_accuracy: 0.0781\n",
      "Epoch 13/15\n",
      "21/21 [==============================] - 11s 512ms/step - loss: 1.2418 - accuracy: 0.5817 - val_loss: 3.0407 - val_accuracy: 0.1406\n",
      "Epoch 14/15\n",
      "21/21 [==============================] - 11s 532ms/step - loss: 1.1059 - accuracy: 0.6057 - val_loss: 3.0325 - val_accuracy: 0.0625\n",
      "Epoch 15/15\n",
      "21/21 [==============================] - 11s 503ms/step - loss: 1.0006 - accuracy: 0.6582 - val_loss: 3.3660 - val_accuracy: 0.1562\n"
     ]
    }
   ],
   "source": [
    "history = cnn.fit(x = training_set, validation_data = test_set, epochs = 15)"
   ]
  },
  {
   "cell_type": "code",
   "execution_count": 16,
   "metadata": {},
   "outputs": [
    {
     "data": {
      "text/plain": [
       "<matplotlib.legend.Legend at 0x21fe461b288>"
      ]
     },
     "execution_count": 16,
     "metadata": {},
     "output_type": "execute_result"
    },
    {
     "data": {
      "image/png": "[encoded data removed]",
      "text/plain": [
       "<Figure size 432x288 with 1 Axes>"
      ]
     },
     "metadata": {
      "needs_background": "light"
     },
     "output_type": "display_data"
    }
   ],
   "source": [
    "plt.plot(history.history['accuracy'], label='accuracy')\n",
    "plt.plot(history.history['val_accuracy'], label = 'val_accuracy')\n",
    "plt.xlabel('Epoch')\n",
    "plt.ylabel('Accuracy')\n",
    "plt.ylim([0.5, 1])\n",
    "plt.legend(loc='lower right')"
   ]
  },
  {
   "cell_type": "markdown",
   "metadata": {},
   "source": [
    "# Saving the model"
   ]
  },
  {
   "cell_type": "code",
   "execution_count": 17,
   "metadata": {},
   "outputs": [
    {
     "name": "stdout",
     "output_type": "stream",
     "text": [
      "WARNING:tensorflow:From c:\\users\\thiag\\appdata\\local\\programs\\python\\python37\\lib\\site-packages\\tensorflow\\python\\training\\tracking\\tracking.py:111: Model.state_updates (from tensorflow.python.keras.engine.training) is deprecated and will be removed in a future version.\n",
      "Instructions for updating:\n",
      "This property should not be used in TensorFlow 2.0, as updates are applied automatically.\n",
      "WARNING:tensorflow:From c:\\users\\thiag\\appdata\\local\\programs\\python\\python37\\lib\\site-packages\\tensorflow\\python\\training\\tracking\\tracking.py:111: Layer.updates (from tensorflow.python.keras.engine.base_layer) is deprecated and will be removed in a future version.\n",
      "Instructions for updating:\n",
      "This property should not be used in TensorFlow 2.0, as updates are applied automatically.\n",
      "INFO:tensorflow:Assets written to: ../model/tomato\\assets\n"
     ]
    }
   ],
   "source": [
    "cnn.save(f'../model/{specific_train}')"
   ]
  },
  {
   "cell_type": "code",
   "execution_count": null,
   "metadata": {},
   "outputs": [],
   "source": []
  }
 ],
 "metadata": {
  "colab": {
   "collapsed_sections": [],
   "name": "Processador.ipynb",
   "provenance": []
  },
  "kernelspec": {
   "display_name": "Python 3",
   "language": "python",
   "name": "python3"
  },
  "language_info": {
   "codemirror_mode": {
    "name": "ipython",
    "version": 3
   },
   "file_extension": ".py",
   "mimetype": "text/x-python",
   "name": "python",
   "nbconvert_exporter": "python",
   "pygments_lexer": "ipython3",
   "version": "3.7.9"
  }
 },
 "nbformat": 4,
 "nbformat_minor": 4
}
