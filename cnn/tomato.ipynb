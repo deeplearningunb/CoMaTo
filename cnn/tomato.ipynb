{
 "cells": [
  {
   "cell_type": "code",
   "execution_count": 1,
   "metadata": {},
   "outputs": [],
   "source": [
    "from keras.preprocessing.image import ImageDataGenerator\n",
    "from keras.utils.np_utils import to_categorical \n",
    "from keras.layers import Conv2D, MaxPool2D, Flatten, Dense, Dropout, LeakyReLU\n",
    "from keras.models import Sequential\n",
    "from keras.preprocessing import image\n",
    "from keras.layers.normalization import BatchNormalization\n",
    "import numpy as np\n",
    "import matplotlib.pyplot as plt"
   ]
  },
  {
   "cell_type": "markdown",
   "metadata": {
    "id": "e9A4IAZGb-qC"
   },
   "source": [
    "# Plant"
   ]
  },
  {
   "cell_type": "code",
   "execution_count": 2,
   "metadata": {
    "id": "kF5sYJWuX3BH"
   },
   "outputs": [],
   "source": [
    "specific_train = 'tomato'"
   ]
  },
  {
   "cell_type": "markdown",
   "metadata": {},
   "source": [
    "# Definitions"
   ]
  },
  {
   "cell_type": "code",
   "execution_count": 3,
   "metadata": {},
   "outputs": [],
   "source": [
    "image_size = tuple((64, 64))\n",
    "height = image_size[0]\n",
    "width = image_size[1]\n",
    "depth = 3"
   ]
  },
  {
   "cell_type": "markdown",
   "metadata": {
    "id": "NL7VXYyecFtH"
   },
   "source": [
    "# Part 1 - Data Preprocessing"
   ]
  },
  {
   "cell_type": "markdown",
   "metadata": {
    "id": "anu1oI8RcJfE"
   },
   "source": [
    "### Preprocessing the Training set"
   ]
  },
  {
   "cell_type": "code",
   "execution_count": 4,
   "metadata": {
    "id": "Ts-KG1fSX2wr"
   },
   "outputs": [
    {
     "name": "stdout",
     "output_type": "stream",
     "text": [
      "Found 8667 images belonging to 8 classes.\n"
     ]
    }
   ],
   "source": [
    "\n",
    "train_datagen = ImageDataGenerator(rescale = 1./255,\n",
    "                                   shear_range = 0.2,\n",
    "                                   zoom_range = 0.2,\n",
    "                                   horizontal_flip = True)\n",
    "training_set = train_datagen.flow_from_directory('../dataset/train_images/' + specific_train,\n",
    "                                                 target_size = image_size,\n",
    "                                                 batch_size = 32)"
   ]
  },
  {
   "cell_type": "code",
   "execution_count": 5,
   "metadata": {},
   "outputs": [
    {
     "data": {
      "text/plain": [
       "{'bacterial': 0,\n",
       " 'early_blight': 1,\n",
       " 'healhtly': 2,\n",
       " 'late_blight': 3,\n",
       " 'mold': 4,\n",
       " 'mosaic_virus': 5,\n",
       " 'septoria': 6,\n",
       " 'yellow_virus': 7}"
      ]
     },
     "execution_count": 5,
     "metadata": {},
     "output_type": "execute_result"
    }
   ],
   "source": [
    "num_classes = len(training_set.class_indices)\n",
    "train_labels = training_set.classes\n",
    "train_labels = to_categorical(train_labels, num_classes=num_classes)\n",
    "class_indices = training_set.class_indices\n",
    "class_indices"
   ]
  },
  {
   "cell_type": "markdown",
   "metadata": {
    "id": "7Sw2PijSc-bt"
   },
   "source": [
    "### Preprocessing the Test set"
   ]
  },
  {
   "cell_type": "code",
   "execution_count": 6,
   "metadata": {
    "id": "uCi3WOYHX3Df"
   },
   "outputs": [
    {
     "name": "stdout",
     "output_type": "stream",
     "text": [
      "Found 864 images belonging to 8 classes.\n"
     ]
    }
   ],
   "source": [
    "test_datagen = ImageDataGenerator(rescale = 1./255)\n",
    "test_set = test_datagen.flow_from_directory('../dataset/test_images/' + specific_train,\n",
    "                                            target_size = image_size,\n",
    "                                            batch_size = 32)"
   ]
  },
  {
   "cell_type": "markdown",
   "metadata": {
    "id": "UeHB9v3mdKXd"
   },
   "source": [
    "# Part 2 - Building the CNN\n"
   ]
  },
  {
   "cell_type": "code",
   "execution_count": 7,
   "metadata": {
    "id": "S2e7wjeeaxLI"
   },
   "outputs": [],
   "source": [
    "cnn = Sequential()"
   ]
  },
  {
   "cell_type": "markdown",
   "metadata": {
    "id": "MSNdJrKDdknx"
   },
   "source": [
    "Step 1 - Convolution\n"
   ]
  },
  {
   "cell_type": "code",
   "execution_count": 8,
   "metadata": {
    "id": "CGwuFI48axNp"
   },
   "outputs": [],
   "source": [
    "cnn.add(Conv2D(filters=64, kernel_size=(3, 3), padding=\"same\", activation='relu', input_shape=(height, width, depth)))\n",
    "cnn.add(BatchNormalization(axis=-1))"
   ]
  },
  {
   "cell_type": "code",
   "execution_count": 9,
   "metadata": {
    "id": "RCqqfwfhdtHU"
   },
   "outputs": [],
   "source": [
    "cnn.add(MaxPool2D(pool_size=3))\n",
    "cnn.add(Dropout(0.25))\n"
   ]
  },
  {
   "cell_type": "markdown",
   "metadata": {
    "id": "McXjHLJhdzPp"
   },
   "source": [
    "Adding a second convolutional layer"
   ]
  },
  {
   "cell_type": "code",
   "execution_count": 10,
   "metadata": {
    "id": "0wuF1e0laxP-"
   },
   "outputs": [],
   "source": [
    "cnn.add(Conv2D(filters=128, kernel_size=(3, 3), padding=\"same\", activation='relu'))\n",
    "cnn.add(MaxPool2D(pool_size=3))\n",
    "cnn.add(Dropout(0.2))\n",
    "cnn.add(BatchNormalization(axis=-1))"
   ]
  },
  {
   "cell_type": "markdown",
   "metadata": {
    "id": "0CJK0-3jd48v"
   },
   "source": [
    "## Flattening"
   ]
  },
  {
   "cell_type": "code",
   "execution_count": 11,
   "metadata": {
    "id": "LCjhqgTYaxSG"
   },
   "outputs": [],
   "source": [
    "cnn.add(Flatten())"
   ]
  },
  {
   "cell_type": "markdown",
   "metadata": {
    "id": "UA4CDNRKd-yv"
   },
   "source": [
    "Step 4 - Full Connection"
   ]
  },
  {
   "cell_type": "code",
   "execution_count": 12,
   "metadata": {
    "id": "OPEMU8DFd6Gg"
   },
   "outputs": [],
   "source": [
    "\n",
    "cnn.add(Dense(units=256, activation=\"relu\"))\n",
    "cnn.add(BatchNormalization())\n",
    "cnn.add(Dropout(0.3))"
   ]
  },
  {
   "cell_type": "markdown",
   "metadata": {
    "id": "oV3cb_PJeBNf"
   },
   "source": [
    "Step 5 - Output Layer"
   ]
  },
  {
   "cell_type": "code",
   "execution_count": 13,
   "metadata": {
    "id": "60ukuOQ1eAJn"
   },
   "outputs": [],
   "source": [
    "cnn.add(Dense(units=num_classes, activation='softmax'))"
   ]
  },
  {
   "cell_type": "markdown",
   "metadata": {
    "id": "BaB4EIsgedCH"
   },
   "source": [
    "# Part 3 - Training the CNN"
   ]
  },
  {
   "cell_type": "markdown",
   "metadata": {
    "id": "sAZJMiJ0ejRt"
   },
   "source": [
    "Compiling the CNN"
   ]
  },
  {
   "cell_type": "code",
   "execution_count": 14,
   "metadata": {
    "id": "ghv0K13uaxUf"
   },
   "outputs": [],
   "source": [
    "cnn.compile(optimizer='adam', loss='categorical_crossentropy', metrics=['accuracy'])"
   ]
  },
  {
   "cell_type": "markdown",
   "metadata": {
    "id": "BmAbjcN9ekDe"
   },
   "source": [
    "Training the CNN on the Training set and evaluating it on the Test set"
   ]
  },
  {
   "cell_type": "code",
   "execution_count": 15,
   "metadata": {
    "id": "GIINmpWVa7WM"
   },
   "outputs": [
    {
     "name": "stdout",
     "output_type": "stream",
     "text": [
      "Epoch 1/20\n",
      "271/271 [==============================] - 89s 276ms/step - loss: 1.3659 - accuracy: 0.5925 - val_loss: 7.4954 - val_accuracy: 0.1539\n",
      "Epoch 2/20\n",
      "271/271 [==============================] - 76s 281ms/step - loss: 0.6912 - accuracy: 0.7766 - val_loss: 2.9571 - val_accuracy: 0.3507\n",
      "Epoch 3/20\n",
      "271/271 [==============================] - 78s 289ms/step - loss: 0.5358 - accuracy: 0.8191 - val_loss: 1.7240 - val_accuracy: 0.5081\n",
      "Epoch 4/20\n",
      "271/271 [==============================] - 73s 268ms/step - loss: 0.4760 - accuracy: 0.8433 - val_loss: 0.6013 - val_accuracy: 0.8206\n",
      "Epoch 5/20\n",
      "271/271 [==============================] - 72s 267ms/step - loss: 0.4246 - accuracy: 0.8607 - val_loss: 1.2299 - val_accuracy: 0.6157\n",
      "Epoch 6/20\n",
      "271/271 [==============================] - 90s 334ms/step - loss: 0.4027 - accuracy: 0.8627 - val_loss: 1.2856 - val_accuracy: 0.6331\n",
      "Epoch 7/20\n",
      "271/271 [==============================] - 81s 300ms/step - loss: 0.3649 - accuracy: 0.8753 - val_loss: 1.2178 - val_accuracy: 0.6470\n",
      "Epoch 8/20\n",
      "271/271 [==============================] - 75s 278ms/step - loss: 0.3208 - accuracy: 0.8892 - val_loss: 1.0596 - val_accuracy: 0.7257\n",
      "Epoch 9/20\n",
      "271/271 [==============================] - 71s 260ms/step - loss: 0.3234 - accuracy: 0.8916 - val_loss: 0.5645 - val_accuracy: 0.8090\n",
      "Epoch 10/20\n",
      "271/271 [==============================] - 70s 259ms/step - loss: 0.2902 - accuracy: 0.9059 - val_loss: 0.5259 - val_accuracy: 0.8380\n",
      "Epoch 11/20\n",
      "271/271 [==============================] - 69s 256ms/step - loss: 0.2871 - accuracy: 0.9033 - val_loss: 0.5092 - val_accuracy: 0.8495\n",
      "Epoch 12/20\n",
      "271/271 [==============================] - 70s 259ms/step - loss: 0.2657 - accuracy: 0.9073 - val_loss: 0.7049 - val_accuracy: 0.7986\n",
      "Epoch 13/20\n",
      "271/271 [==============================] - 70s 257ms/step - loss: 0.2597 - accuracy: 0.9157 - val_loss: 0.7006 - val_accuracy: 0.7650\n",
      "Epoch 14/20\n",
      "271/271 [==============================] - 70s 257ms/step - loss: 0.2305 - accuracy: 0.9214 - val_loss: 0.5806 - val_accuracy: 0.8438\n",
      "Epoch 15/20\n",
      "271/271 [==============================] - 70s 258ms/step - loss: 0.2438 - accuracy: 0.9170 - val_loss: 0.4987 - val_accuracy: 0.8333\n",
      "Epoch 16/20\n",
      "271/271 [==============================] - 68s 251ms/step - loss: 0.1908 - accuracy: 0.9368 - val_loss: 1.0781 - val_accuracy: 0.6921\n",
      "Epoch 17/20\n",
      "271/271 [==============================] - 68s 252ms/step - loss: 0.2138 - accuracy: 0.9263 - val_loss: 0.5444 - val_accuracy: 0.8576\n",
      "Epoch 18/20\n",
      "271/271 [==============================] - 68s 252ms/step - loss: 0.1887 - accuracy: 0.9331 - val_loss: 0.4257 - val_accuracy: 0.8588\n",
      "Epoch 19/20\n",
      "271/271 [==============================] - 69s 253ms/step - loss: 0.2109 - accuracy: 0.9245 - val_loss: 0.3671 - val_accuracy: 0.8866\n",
      "Epoch 20/20\n",
      "271/271 [==============================] - 69s 253ms/step - loss: 0.1862 - accuracy: 0.9351 - val_loss: 0.8829 - val_accuracy: 0.7396\n"
     ]
    }
   ],
   "source": [
    "history = cnn.fit(x = training_set, validation_data = test_set, epochs = 20)"
   ]
  },
  {
   "cell_type": "code",
   "execution_count": 16,
   "metadata": {},
   "outputs": [
    {
     "data": {
      "text/plain": [
       "<matplotlib.legend.Legend at 0x19ba2fc6670>"
      ]
     },
     "execution_count": 16,
     "metadata": {},
     "output_type": "execute_result"
    },
    {
     "data": {
      "image/png": "[encoded data removed]",
      "text/plain": [
       "<Figure size 432x288 with 1 Axes>"
      ]
     },
     "metadata": {
      "needs_background": "light"
     },
     "output_type": "display_data"
    }
   ],
   "source": [
    "plt.plot(history.history['accuracy'], label='accuracy')\n",
    "plt.plot(history.history['val_accuracy'], label = 'val_accuracy')\n",
    "plt.xlabel('Epoch')\n",
    "plt.ylabel('Accuracy')\n",
    "plt.ylim([0.5, 1])\n",
    "plt.legend(loc='lower right')"
   ]
  },
  {
   "cell_type": "markdown",
   "metadata": {},
   "source": [
    "# Saving the model"
   ]
  },
  {
   "cell_type": "code",
   "execution_count": 17,
   "metadata": {},
   "outputs": [
    {
     "name": "stdout",
     "output_type": "stream",
     "text": [
      "INFO:tensorflow:Assets written to: ../model/tomato\\assets\n"
     ]
    }
   ],
   "source": [
    "cnn.save(f'../model/{specific_train}')"
   ]
  },
  {
   "cell_type": "code",
   "execution_count": null,
   "metadata": {},
   "outputs": [],
   "source": []
  }
 ],
 "metadata": {
  "colab": {
   "collapsed_sections": [],
   "name": "Processador.ipynb",
   "provenance": []
  },
  "kernelspec": {
   "display_name": "Python 3",
   "language": "python",
   "name": "python3"
  },
  "language_info": {
   "codemirror_mode": {
    "name": "ipython",
    "version": 3
   },
   "file_extension": ".py",
   "mimetype": "text/x-python",
   "name": "python",
   "nbconvert_exporter": "python",
   "pygments_lexer": "ipython3",
   "version": "3.8.10"
  }
 },
 "nbformat": 4,
 "nbformat_minor": 4
}
