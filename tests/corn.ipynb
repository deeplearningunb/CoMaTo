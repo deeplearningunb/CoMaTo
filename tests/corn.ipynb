{
 "cells": [
  {
   "cell_type": "code",
   "execution_count": 1,
   "id": "04a4c707-ff8f-418c-b40d-6a14e47542b4",
   "metadata": {},
   "outputs": [],
   "source": [
    "from keras.models import load_model\n",
    "from keras.preprocessing import image\n",
    "import numpy as np\n",
    "import matplotlib.pyplot as plt"
   ]
  },
  {
   "cell_type": "markdown",
   "id": "ce630ae8-62a4-4077-9682-5b43999f3e45",
   "metadata": {},
   "source": [
    "# Plant"
   ]
  },
  {
   "cell_type": "code",
   "execution_count": 2,
   "id": "1119d57e-d08c-406c-9bd5-67af6f7e6638",
   "metadata": {},
   "outputs": [],
   "source": [
    "plant = 'corn'\n",
    "classes = ['blight', 'gray', 'healthly', 'rust']"
   ]
  },
  {
   "cell_type": "markdown",
   "id": "bea54190-6d96-4788-acea-0f1dd116f61e",
   "metadata": {},
   "source": [
    "# CNN"
   ]
  },
  {
   "cell_type": "code",
   "execution_count": 3,
   "id": "673388b5-c4e1-475e-b330-b68acf2fda71",
   "metadata": {},
   "outputs": [],
   "source": [
    "cnn = load_model(f'../model/{plant}')\n",
    "image_size = tuple((64, 64))"
   ]
  },
  {
   "cell_type": "markdown",
   "id": "c8a7ebc0-b3d8-49f8-8271-643a5baa55ab",
   "metadata": {},
   "source": [
    "# Making a prediction"
   ]
  },
  {
   "cell_type": "code",
   "execution_count": 4,
   "id": "00cf7896-25a1-4e86-b80c-5b0ed75e3de1",
   "metadata": {},
   "outputs": [],
   "source": [
    "def read_image(image_name):\n",
    "    test_image = image.load_img(f'../dataset/prediction/{plant}/{image_name}', target_size = image_size)\n",
    "    test_image = image.img_to_array(test_image)\n",
    "    test_image = np.expand_dims(test_image, axis = 0)\n",
    "    test_image /= 255\n",
    "    return test_image\n",
    "\n",
    "def print_prediction(result):\n",
    "    result_indice = np.argmax(result[0])\n",
    "    prediction = classes[result_indice]\n",
    "    prediction_percentage = max(result[0]) * 100\n",
    "    print(\"Prediction = {} - {:.2f}%\\n\".format(prediction, prediction_percentage))\n",
    "    \n",
    "def test_single_image(prediction_image):\n",
    "    images = read_image(prediction_image)\n",
    "    result = cnn.predict(images)\n",
    "    print_prediction(result)\n",
    "    return result"
   ]
  },
  {
   "cell_type": "code",
   "execution_count": 5,
   "id": "53c6f546-39a9-4850-a40d-b6cb6f3b4d0f",
   "metadata": {},
   "outputs": [],
   "source": [
    "prediction_images = ['blight.jpeg', 'gray.jpg', 'healthly.jpg', 'rust.jpg']"
   ]
  },
  {
   "cell_type": "code",
   "execution_count": 6,
   "id": "da9722b6-3053-4e23-b12b-042e69e4c463",
   "metadata": {},
   "outputs": [
    {
     "name": "stdout",
     "output_type": "stream",
     "text": [
      "Classes = ['blight', 'gray', 'healthly', 'rust']\n",
      "Prediction = blight - 91.42%\n",
      "\n",
      "Prediction = gray - 74.94%\n",
      "\n",
      "Prediction = healthly - 97.59%\n",
      "\n",
      "Prediction = rust - 52.92%\n",
      "\n"
     ]
    }
   ],
   "source": [
    "print(f\"Classes = {classes}\")\n",
    "for pred_image in prediction_images:\n",
    "    test_single_image(pred_image)"
   ]
  },
  {
   "cell_type": "code",
   "execution_count": null,
   "id": "3de538e5-a31f-4b0f-a0a4-ebfe8e77ee79",
   "metadata": {},
   "outputs": [],
   "source": []
  },
  {
   "cell_type": "code",
   "execution_count": null,
   "id": "043c33f8-2e73-4ea9-82c7-2bf678e534f5",
   "metadata": {},
   "outputs": [],
   "source": []
  }
 ],
 "metadata": {
  "kernelspec": {
   "display_name": "Python 3",
   "language": "python",
   "name": "python3"
  },
  "language_info": {
   "codemirror_mode": {
    "name": "ipython",
    "version": 3
   },
   "file_extension": ".py",
   "mimetype": "text/x-python",
   "name": "python",
   "nbconvert_exporter": "python",
   "pygments_lexer": "ipython3",
   "version": "3.8.10"
  }
 },
 "nbformat": 4,
 "nbformat_minor": 5
}
