{
 "cells": [
  {
   "cell_type": "code",
   "execution_count": 1,
   "metadata": {
    "id": "UjIW1VyOXgGX"
   },
   "outputs": [],
   "source": [
    "import tensorflow as tf\n",
    "from keras.preprocessing.image import ImageDataGenerator\n",
    "from keras.utils.np_utils import to_categorical \n",
    "import numpy as np\n",
    "from keras.preprocessing import image"
   ]
  },
  {
   "cell_type": "markdown",
   "metadata": {
    "id": "e9A4IAZGb-qC"
   },
   "source": [
    "# Plant"
   ]
  },
  {
   "cell_type": "code",
   "execution_count": 2,
   "metadata": {
    "id": "kF5sYJWuX3BH"
   },
   "outputs": [],
   "source": [
    "specific_train = 'corn'"
   ]
  },
  {
   "cell_type": "markdown",
   "metadata": {},
   "source": [
    "# Definitions"
   ]
  },
  {
   "cell_type": "code",
   "execution_count": 3,
   "metadata": {},
   "outputs": [],
   "source": [
    "image_size = tuple((64, 64))\n",
    "height = image_size[0]\n",
    "width = image_size[1]\n",
    "depth = 3"
   ]
  },
  {
   "cell_type": "markdown",
   "metadata": {
    "id": "NL7VXYyecFtH"
   },
   "source": [
    "# Part 1 - Data Preprocessing"
   ]
  },
  {
   "cell_type": "markdown",
   "metadata": {
    "id": "anu1oI8RcJfE"
   },
   "source": [
    "### Preprocessing the Training set"
   ]
  },
  {
   "cell_type": "code",
   "execution_count": 4,
   "metadata": {
    "id": "Ts-KG1fSX2wr"
   },
   "outputs": [
    {
     "name": "stdout",
     "output_type": "stream",
     "text": [
      "Found 3927 images belonging to 4 classes.\n"
     ]
    }
   ],
   "source": [
    "\n",
    "train_datagen = ImageDataGenerator(rescale = 1./255,\n",
    "                                   shear_range = 0.2,\n",
    "                                   zoom_range = 0.2,\n",
    "                                   horizontal_flip = True)\n",
    "training_set = train_datagen.flow_from_directory('dataset/train_images/' + specific_train,\n",
    "                                                 target_size = image_size,\n",
    "                                                 batch_size = 32)"
   ]
  },
  {
   "cell_type": "code",
   "execution_count": 5,
   "metadata": {},
   "outputs": [
    {
     "data": {
      "text/plain": [
       "{'blight': 0, 'gray': 1, 'healthly': 2, 'rust': 3}"
      ]
     },
     "execution_count": 5,
     "metadata": {},
     "output_type": "execute_result"
    }
   ],
   "source": [
    "num_classes = len(training_set.class_indices)\n",
    "train_labels = training_set.classes\n",
    "train_labels = to_categorical(train_labels, num_classes=num_classes)\n",
    "class_indices = training_set.class_indices\n",
    "class_indices"
   ]
  },
  {
   "cell_type": "markdown",
   "metadata": {
    "id": "7Sw2PijSc-bt"
   },
   "source": [
    "### Preprocessing the Test set"
   ]
  },
  {
   "cell_type": "code",
   "execution_count": 6,
   "metadata": {
    "id": "uCi3WOYHX3Df"
   },
   "outputs": [
    {
     "name": "stdout",
     "output_type": "stream",
     "text": [
      "Found 1120 images belonging to 4 classes.\n"
     ]
    }
   ],
   "source": [
    "test_datagen = ImageDataGenerator(rescale = 1./255)\n",
    "test_set = test_datagen.flow_from_directory('dataset/test_images/' + specific_train,\n",
    "                                            target_size = image_size,\n",
    "                                            batch_size = 32)"
   ]
  },
  {
   "cell_type": "markdown",
   "metadata": {
    "id": "UeHB9v3mdKXd"
   },
   "source": [
    "# Part 2 - Building the CNN\n"
   ]
  },
  {
   "cell_type": "code",
   "execution_count": 7,
   "metadata": {
    "id": "S2e7wjeeaxLI"
   },
   "outputs": [],
   "source": [
    "cnn = tf.keras.models.Sequential()"
   ]
  },
  {
   "cell_type": "markdown",
   "metadata": {
    "id": "MSNdJrKDdknx"
   },
   "source": [
    "Step 1 - Convolution\n"
   ]
  },
  {
   "cell_type": "code",
   "execution_count": 8,
   "metadata": {
    "id": "CGwuFI48axNp"
   },
   "outputs": [],
   "source": [
    "cnn.add(tf.keras.layers.Conv2D(filters=32, kernel_size=3, activation='relu', input_shape=(height, width, depth)))"
   ]
  },
  {
   "cell_type": "markdown",
   "metadata": {
    "id": "eaXzmbDLduSS"
   },
   "source": [
    "Step 2 - Pooling\n"
   ]
  },
  {
   "cell_type": "code",
   "execution_count": 9,
   "metadata": {
    "id": "RCqqfwfhdtHU"
   },
   "outputs": [],
   "source": [
    "cnn.add(tf.keras.layers.MaxPool2D(pool_size=2, strides=2))"
   ]
  },
  {
   "cell_type": "markdown",
   "metadata": {
    "id": "McXjHLJhdzPp"
   },
   "source": [
    "Adding a second convolutional layer"
   ]
  },
  {
   "cell_type": "code",
   "execution_count": 10,
   "metadata": {
    "id": "0wuF1e0laxP-"
   },
   "outputs": [],
   "source": [
    "cnn.add(tf.keras.layers.Conv2D(filters=32, kernel_size=2, activation='relu'))\n",
    "cnn.add(tf.keras.layers.MaxPool2D(pool_size=2, strides=2))"
   ]
  },
  {
   "cell_type": "markdown",
   "metadata": {
    "id": "0CJK0-3jd48v"
   },
   "source": [
    "Step 3 - Flattening"
   ]
  },
  {
   "cell_type": "code",
   "execution_count": 11,
   "metadata": {
    "id": "LCjhqgTYaxSG"
   },
   "outputs": [],
   "source": [
    "cnn.add(tf.keras.layers.Flatten())"
   ]
  },
  {
   "cell_type": "markdown",
   "metadata": {
    "id": "UA4CDNRKd-yv"
   },
   "source": [
    "Step 4 - Full Connection"
   ]
  },
  {
   "cell_type": "code",
   "execution_count": 12,
   "metadata": {
    "id": "OPEMU8DFd6Gg"
   },
   "outputs": [],
   "source": [
    "cnn.add(tf.keras.layers.Dense(units=128, activation='relu'))"
   ]
  },
  {
   "cell_type": "markdown",
   "metadata": {
    "id": "oV3cb_PJeBNf"
   },
   "source": [
    "Step 5 - Output Layer"
   ]
  },
  {
   "cell_type": "code",
   "execution_count": 13,
   "metadata": {
    "id": "60ukuOQ1eAJn"
   },
   "outputs": [],
   "source": [
    "cnn.add(tf.keras.layers.Dense(units=num_classes, activation='softmax'))"
   ]
  },
  {
   "cell_type": "markdown",
   "metadata": {
    "id": "BaB4EIsgedCH"
   },
   "source": [
    "# Part 3 - Training the CNN"
   ]
  },
  {
   "cell_type": "markdown",
   "metadata": {
    "id": "sAZJMiJ0ejRt"
   },
   "source": [
    "Compiling the CNN"
   ]
  },
  {
   "cell_type": "code",
   "execution_count": 14,
   "metadata": {
    "id": "ghv0K13uaxUf"
   },
   "outputs": [],
   "source": [
    "cnn.compile(optimizer='adam', loss='categorical_crossentropy', metrics=['accuracy'])"
   ]
  },
  {
   "cell_type": "markdown",
   "metadata": {
    "id": "BmAbjcN9ekDe"
   },
   "source": [
    "Training the CNN on the Training set and evaluating it on the Test set"
   ]
  },
  {
   "cell_type": "code",
   "execution_count": 15,
   "metadata": {
    "id": "GIINmpWVa7WM"
   },
   "outputs": [
    {
     "name": "stdout",
     "output_type": "stream",
     "text": [
      "Epoch 1/15\n",
      "123/123 [==============================] - 18s 144ms/step - loss: 0.5525 - accuracy: 0.7830 - val_loss: 0.4546 - val_accuracy: 0.8170\n",
      "Epoch 2/15\n",
      "123/123 [==============================] - 18s 146ms/step - loss: 0.3256 - accuracy: 0.8569 - val_loss: 0.4222 - val_accuracy: 0.8107\n",
      "Epoch 3/15\n",
      "123/123 [==============================] - 18s 147ms/step - loss: 0.3153 - accuracy: 0.8671 - val_loss: 0.5087 - val_accuracy: 0.7973\n",
      "Epoch 4/15\n",
      "123/123 [==============================] - 18s 143ms/step - loss: 0.2749 - accuracy: 0.8826 - val_loss: 0.4211 - val_accuracy: 0.8295\n",
      "Epoch 5/15\n",
      "123/123 [==============================] - 17s 142ms/step - loss: 0.2503 - accuracy: 0.8958 - val_loss: 0.3567 - val_accuracy: 0.8446\n",
      "Epoch 6/15\n",
      "123/123 [==============================] - 18s 145ms/step - loss: 0.2464 - accuracy: 0.8930 - val_loss: 0.3520 - val_accuracy: 0.8589\n",
      "Epoch 7/15\n",
      "123/123 [==============================] - 18s 147ms/step - loss: 0.2383 - accuracy: 0.9058 - val_loss: 0.3504 - val_accuracy: 0.8634\n",
      "Epoch 8/15\n",
      "123/123 [==============================] - 18s 148ms/step - loss: 0.2179 - accuracy: 0.9119 - val_loss: 0.4168 - val_accuracy: 0.8116\n",
      "Epoch 9/15\n",
      "123/123 [==============================] - 18s 145ms/step - loss: 0.1976 - accuracy: 0.9139 - val_loss: 0.4570 - val_accuracy: 0.7955\n",
      "Epoch 10/15\n",
      "123/123 [==============================] - 18s 145ms/step - loss: 0.1864 - accuracy: 0.9160 - val_loss: 0.3497 - val_accuracy: 0.8473\n",
      "Epoch 11/15\n",
      "123/123 [==============================] - 18s 145ms/step - loss: 0.1965 - accuracy: 0.9206 - val_loss: 0.3511 - val_accuracy: 0.8562\n",
      "Epoch 12/15\n",
      "123/123 [==============================] - 19s 152ms/step - loss: 0.1830 - accuracy: 0.9244 - val_loss: 0.3829 - val_accuracy: 0.8411\n",
      "Epoch 13/15\n",
      "123/123 [==============================] - 18s 147ms/step - loss: 0.1758 - accuracy: 0.9287 - val_loss: 0.3331 - val_accuracy: 0.8687\n",
      "Epoch 14/15\n",
      "123/123 [==============================] - 18s 146ms/step - loss: 0.1604 - accuracy: 0.9323 - val_loss: 0.3226 - val_accuracy: 0.8839\n",
      "Epoch 15/15\n",
      "123/123 [==============================] - 19s 149ms/step - loss: 0.1628 - accuracy: 0.9358 - val_loss: 0.4084 - val_accuracy: 0.8375\n"
     ]
    },
    {
     "data": {
      "text/plain": [
       "<tensorflow.python.keras.callbacks.History at 0x7ff8ae51ceb0>"
      ]
     },
     "execution_count": 15,
     "metadata": {},
     "output_type": "execute_result"
    }
   ],
   "source": [
    "cnn.fit(x = training_set, validation_data = test_set, epochs = 15)"
   ]
  },
  {
   "cell_type": "code",
   "execution_count": 16,
   "metadata": {},
   "outputs": [
    {
     "name": "stdout",
     "output_type": "stream",
     "text": [
      "Model: \"sequential\"\n",
      "_________________________________________________________________\n",
      "Layer (type)                 Output Shape              Param #   \n",
      "=================================================================\n",
      "conv2d (Conv2D)              (None, 62, 62, 32)        896       \n",
      "_________________________________________________________________\n",
      "max_pooling2d (MaxPooling2D) (None, 31, 31, 32)        0         \n",
      "_________________________________________________________________\n",
      "conv2d_1 (Conv2D)            (None, 30, 30, 32)        4128      \n",
      "_________________________________________________________________\n",
      "max_pooling2d_1 (MaxPooling2 (None, 15, 15, 32)        0         \n",
      "_________________________________________________________________\n",
      "flatten (Flatten)            (None, 7200)              0         \n",
      "_________________________________________________________________\n",
      "dense (Dense)                (None, 128)               921728    \n",
      "_________________________________________________________________\n",
      "dense_1 (Dense)              (None, 4)                 516       \n",
      "=================================================================\n",
      "Total params: 927,268\n",
      "Trainable params: 927,268\n",
      "Non-trainable params: 0\n",
      "_________________________________________________________________\n"
     ]
    }
   ],
   "source": [
    "cnn.summary()"
   ]
  },
  {
   "cell_type": "markdown",
   "metadata": {},
   "source": [
    "# Making a prediction"
   ]
  },
  {
   "cell_type": "code",
   "execution_count": 44,
   "metadata": {},
   "outputs": [],
   "source": [
    "def read_image(image_name):\n",
    "    test_image = image.load_img(f'dataset/single_prediction/{specific_train}/{prediction_image}', target_size = image_size)\n",
    "    test_image = image.img_to_array(test_image)\n",
    "    test_image = np.expand_dims(test_image, axis = 0)\n",
    "    test_image /= 255\n",
    "    return test_image"
   ]
  },
  {
   "cell_type": "code",
   "execution_count": 45,
   "metadata": {},
   "outputs": [],
   "source": [
    "def test_single_image(prediction_image):\n",
    "    images = read_image(prediction_image)\n",
    "    result = cnn.predict(images)\n",
    "    return result"
   ]
  },
  {
   "cell_type": "code",
   "execution_count": 46,
   "metadata": {},
   "outputs": [],
   "source": [
    "def print_prediction(result):\n",
    "    result_indice = np.argmax(result[0])\n",
    "    prediction = list(class_indices.keys())[result_indice]\n",
    "    prediction_percentage = max(result[0]) * 100\n",
    "    print(f\"Classes = {class_indices}\")\n",
    "    print(\"Prediction = {} - {:.2f}%\".format(prediction, prediction_percentage))"
   ]
  },
  {
   "cell_type": "code",
   "execution_count": 51,
   "metadata": {},
   "outputs": [
    {
     "name": "stdout",
     "output_type": "stream",
     "text": [
      "[5.1721287e-01 4.0081370e-01 5.4597411e-05 8.1918851e-02]\n",
      "Classes = {'blight': 0, 'gray': 1, 'healthly': 2, 'rust': 3}\n",
      "Prediction = blight - 51.72%\n"
     ]
    }
   ],
   "source": [
    "prediction_image = 'blight.jpeg'\n",
    "result = test_single_image(prediction_image)\n",
    "print(result[0])\n",
    "print_prediction(result)"
   ]
  },
  {
   "cell_type": "markdown",
   "metadata": {},
   "source": [
    "# Saving the model"
   ]
  },
  {
   "cell_type": "code",
   "execution_count": 24,
   "metadata": {},
   "outputs": [
    {
     "name": "stdout",
     "output_type": "stream",
     "text": [
      "INFO:tensorflow:Assets written to: model/corn/assets\n"
     ]
    }
   ],
   "source": [
    "cnn.save(f'model/{specific_train}')"
   ]
  }
 ],
 "metadata": {
  "colab": {
   "collapsed_sections": [],
   "name": "Processador.ipynb",
   "provenance": []
  },
  "kernelspec": {
   "display_name": "Python 3",
   "language": "python",
   "name": "python3"
  },
  "language_info": {
   "codemirror_mode": {
    "name": "ipython",
    "version": 3
   },
   "file_extension": ".py",
   "mimetype": "text/x-python",
   "name": "python",
   "nbconvert_exporter": "python",
   "pygments_lexer": "ipython3",
   "version": "3.8.5"
  }
 },
 "nbformat": 4,
 "nbformat_minor": 4
}
