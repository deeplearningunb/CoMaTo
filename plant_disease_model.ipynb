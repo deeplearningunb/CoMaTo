{
 "cells": [
  {
   "cell_type": "code",
   "execution_count": 1,
   "metadata": {
    "id": "UjIW1VyOXgGX"
   },
   "outputs": [],
   "source": [
    "import tensorflow as tf\n",
    "from keras.preprocessing.image import ImageDataGenerator"
   ]
  },
  {
   "cell_type": "markdown",
   "metadata": {
    "id": "e9A4IAZGb-qC"
   },
   "source": [
    "# Plant"
   ]
  },
  {
   "cell_type": "code",
   "execution_count": 2,
   "metadata": {
    "id": "kF5sYJWuX3BH"
   },
   "outputs": [],
   "source": [
    "specific_train = 'corn'"
   ]
  },
  {
   "cell_type": "markdown",
   "metadata": {},
   "source": [
    "# Definitions"
   ]
  },
  {
   "cell_type": "code",
   "execution_count": 3,
   "metadata": {},
   "outputs": [],
   "source": [
    "image_size = tuple((64, 64))\n",
    "height = image_size[0]\n",
    "width = image_size[1]\n",
    "depth = 3"
   ]
  },
  {
   "cell_type": "markdown",
   "metadata": {
    "id": "NL7VXYyecFtH"
   },
   "source": [
    "# Part 1 - Data Preprocessing"
   ]
  },
  {
   "cell_type": "markdown",
   "metadata": {
    "id": "anu1oI8RcJfE"
   },
   "source": [
    "### Preprocessing the Training set"
   ]
  },
  {
   "cell_type": "code",
   "execution_count": 4,
   "metadata": {
    "id": "Ts-KG1fSX2wr"
   },
   "outputs": [
    {
     "name": "stdout",
     "output_type": "stream",
     "text": [
      "Found 4188 images belonging to 2 classes.\n"
     ]
    }
   ],
   "source": [
    "\n",
    "train_datagen = ImageDataGenerator(rescale = 1./255,\n",
    "                                   shear_range = 0.2,\n",
    "                                   zoom_range = 0.2,\n",
    "                                   horizontal_flip = True)\n",
    "training_set = train_datagen.flow_from_directory('dataset/train_images/' + specific_train,\n",
    "                                                 target_size = image_size,\n",
    "                                                 batch_size = 32,\n",
    "                                                 class_mode = 'binary')"
   ]
  },
  {
   "cell_type": "markdown",
   "metadata": {
    "id": "7Sw2PijSc-bt"
   },
   "source": [
    "### Preprocessing the Test set"
   ]
  },
  {
   "cell_type": "code",
   "execution_count": 5,
   "metadata": {
    "id": "uCi3WOYHX3Df"
   },
   "outputs": [
    {
     "name": "stdout",
     "output_type": "stream",
     "text": [
      "Found 612 images belonging to 2 classes.\n"
     ]
    }
   ],
   "source": [
    "test_datagen = ImageDataGenerator(rescale = 1./255)\n",
    "test_set = test_datagen.flow_from_directory('dataset/test_images/' + specific_train,\n",
    "                                            target_size = image_size,\n",
    "                                            batch_size = 32,\n",
    "                                            class_mode = 'binary')"
   ]
  },
  {
   "cell_type": "markdown",
   "metadata": {
    "id": "UeHB9v3mdKXd"
   },
   "source": [
    "# Part 2 - Building the CNN\n"
   ]
  },
  {
   "cell_type": "code",
   "execution_count": 6,
   "metadata": {
    "id": "S2e7wjeeaxLI"
   },
   "outputs": [],
   "source": [
    "cnn = tf.keras.models.Sequential()"
   ]
  },
  {
   "cell_type": "markdown",
   "metadata": {
    "id": "MSNdJrKDdknx"
   },
   "source": [
    "Step 1 - Convolution\n"
   ]
  },
  {
   "cell_type": "code",
   "execution_count": 7,
   "metadata": {
    "id": "CGwuFI48axNp"
   },
   "outputs": [],
   "source": [
    "cnn.add(tf.keras.layers.Conv2D(filters=32, kernel_size=3, activation='relu', input_shape=[height, width, depth]))"
   ]
  },
  {
   "cell_type": "markdown",
   "metadata": {
    "id": "eaXzmbDLduSS"
   },
   "source": [
    "Step 2 - Pooling\n"
   ]
  },
  {
   "cell_type": "code",
   "execution_count": 8,
   "metadata": {
    "id": "RCqqfwfhdtHU"
   },
   "outputs": [],
   "source": [
    "cnn.add(tf.keras.layers.MaxPool2D(pool_size=2, strides=2))"
   ]
  },
  {
   "cell_type": "markdown",
   "metadata": {
    "id": "McXjHLJhdzPp"
   },
   "source": [
    "Adding a second convolutional layer"
   ]
  },
  {
   "cell_type": "code",
   "execution_count": 9,
   "metadata": {
    "id": "0wuF1e0laxP-"
   },
   "outputs": [],
   "source": [
    "cnn.add(tf.keras.layers.Conv2D(filters=32, kernel_size=3, activation='relu'))\n",
    "cnn.add(tf.keras.layers.MaxPool2D(pool_size=2, strides=2))"
   ]
  },
  {
   "cell_type": "markdown",
   "metadata": {
    "id": "0CJK0-3jd48v"
   },
   "source": [
    "Step 3 - Flattening"
   ]
  },
  {
   "cell_type": "code",
   "execution_count": 10,
   "metadata": {
    "id": "LCjhqgTYaxSG"
   },
   "outputs": [],
   "source": [
    "cnn.add(tf.keras.layers.Flatten())"
   ]
  },
  {
   "cell_type": "markdown",
   "metadata": {
    "id": "UA4CDNRKd-yv"
   },
   "source": [
    "Step 4 - Full Connection"
   ]
  },
  {
   "cell_type": "code",
   "execution_count": 11,
   "metadata": {
    "id": "OPEMU8DFd6Gg"
   },
   "outputs": [],
   "source": [
    "cnn.add(tf.keras.layers.Dense(units=128, activation='relu'))\n"
   ]
  },
  {
   "cell_type": "markdown",
   "metadata": {
    "id": "oV3cb_PJeBNf"
   },
   "source": [
    "Step 5 - Output Layer"
   ]
  },
  {
   "cell_type": "code",
   "execution_count": 12,
   "metadata": {
    "id": "60ukuOQ1eAJn"
   },
   "outputs": [],
   "source": [
    "cnn.add(tf.keras.layers.Dense(units=1, activation='sigmoid'))"
   ]
  },
  {
   "cell_type": "markdown",
   "metadata": {
    "id": "BaB4EIsgedCH"
   },
   "source": [
    "# Part 3 - Training the CNN"
   ]
  },
  {
   "cell_type": "markdown",
   "metadata": {
    "id": "sAZJMiJ0ejRt"
   },
   "source": [
    "Compiling the CNN"
   ]
  },
  {
   "cell_type": "code",
   "execution_count": 13,
   "metadata": {
    "id": "ghv0K13uaxUf"
   },
   "outputs": [],
   "source": [
    "cnn.compile(optimizer = 'adam', loss = 'binary_crossentropy', metrics = ['accuracy'])"
   ]
  },
  {
   "cell_type": "markdown",
   "metadata": {
    "id": "BmAbjcN9ekDe"
   },
   "source": [
    "Training the CNN on the Training set and evaluating it on the Test set"
   ]
  },
  {
   "cell_type": "code",
   "execution_count": 14,
   "metadata": {
    "id": "GIINmpWVa7WM"
   },
   "outputs": [
    {
     "name": "stdout",
     "output_type": "stream",
     "text": [
      "Epoch 1/25\n",
      "131/131 [==============================] - 21s 159ms/step - loss: 0.1973 - accuracy: 0.9114 - val_loss: 0.1336 - val_accuracy: 0.9395\n",
      "Epoch 2/25\n",
      "131/131 [==============================] - 20s 156ms/step - loss: 0.0574 - accuracy: 0.9783 - val_loss: 0.1293 - val_accuracy: 0.9493\n",
      "Epoch 3/25\n",
      "131/131 [==============================] - 23s 172ms/step - loss: 0.0532 - accuracy: 0.9802 - val_loss: 0.1490 - val_accuracy: 0.9461\n",
      "Epoch 4/25\n",
      "131/131 [==============================] - 20s 152ms/step - loss: 0.0371 - accuracy: 0.9876 - val_loss: 0.0654 - val_accuracy: 0.9820\n",
      "Epoch 5/25\n",
      "131/131 [==============================] - 21s 161ms/step - loss: 0.0409 - accuracy: 0.9873 - val_loss: 0.0330 - val_accuracy: 0.9902\n",
      "Epoch 6/25\n",
      "131/131 [==============================] - 20s 155ms/step - loss: 0.0215 - accuracy: 0.9938 - val_loss: 0.1086 - val_accuracy: 0.9608\n",
      "Epoch 7/25\n",
      "131/131 [==============================] - 20s 155ms/step - loss: 0.0165 - accuracy: 0.9938 - val_loss: 0.0178 - val_accuracy: 0.9951\n",
      "Epoch 8/25\n",
      "131/131 [==============================] - 21s 164ms/step - loss: 0.0312 - accuracy: 0.9904 - val_loss: 0.0460 - val_accuracy: 0.9886\n",
      "Epoch 9/25\n",
      "131/131 [==============================] - 22s 168ms/step - loss: 0.0230 - accuracy: 0.9928 - val_loss: 0.0371 - val_accuracy: 0.9869\n",
      "Epoch 10/25\n",
      "131/131 [==============================] - 21s 163ms/step - loss: 0.0179 - accuracy: 0.9943 - val_loss: 0.0088 - val_accuracy: 0.9967\n",
      "Epoch 11/25\n",
      "131/131 [==============================] - 22s 165ms/step - loss: 0.0274 - accuracy: 0.9921 - val_loss: 0.2073 - val_accuracy: 0.9232\n",
      "Epoch 12/25\n",
      "131/131 [==============================] - 21s 159ms/step - loss: 0.0193 - accuracy: 0.9950 - val_loss: 0.0625 - val_accuracy: 0.9722\n",
      "Epoch 13/25\n",
      "131/131 [==============================] - 21s 157ms/step - loss: 0.0190 - accuracy: 0.9933 - val_loss: 0.0242 - val_accuracy: 0.9902\n",
      "Epoch 14/25\n",
      "131/131 [==============================] - 22s 163ms/step - loss: 0.0219 - accuracy: 0.9940 - val_loss: 0.0769 - val_accuracy: 0.9706\n",
      "Epoch 15/25\n",
      "131/131 [==============================] - 21s 161ms/step - loss: 0.0134 - accuracy: 0.9957 - val_loss: 0.0030 - val_accuracy: 0.9984\n",
      "Epoch 16/25\n",
      "131/131 [==============================] - 20s 155ms/step - loss: 0.0155 - accuracy: 0.9962 - val_loss: 0.0305 - val_accuracy: 0.9918\n",
      "Epoch 17/25\n",
      "131/131 [==============================] - 21s 163ms/step - loss: 0.0391 - accuracy: 0.9864 - val_loss: 0.0069 - val_accuracy: 0.9984\n",
      "Epoch 18/25\n",
      "131/131 [==============================] - 20s 152ms/step - loss: 0.0263 - accuracy: 0.9909 - val_loss: 0.0140 - val_accuracy: 0.9935\n",
      "Epoch 19/25\n",
      "131/131 [==============================] - 22s 170ms/step - loss: 0.0161 - accuracy: 0.9957 - val_loss: 0.0033 - val_accuracy: 0.9984\n",
      "Epoch 20/25\n",
      "131/131 [==============================] - 20s 153ms/step - loss: 0.0166 - accuracy: 0.9945 - val_loss: 0.0096 - val_accuracy: 0.9984\n",
      "Epoch 21/25\n",
      "131/131 [==============================] - 20s 149ms/step - loss: 0.0112 - accuracy: 0.9959 - val_loss: 0.0040 - val_accuracy: 0.9984\n",
      "Epoch 22/25\n",
      "131/131 [==============================] - 21s 159ms/step - loss: 0.0135 - accuracy: 0.9957 - val_loss: 0.0042 - val_accuracy: 1.0000\n",
      "Epoch 23/25\n",
      "131/131 [==============================] - 20s 154ms/step - loss: 0.0103 - accuracy: 0.9969 - val_loss: 0.0029 - val_accuracy: 1.0000\n",
      "Epoch 24/25\n",
      "131/131 [==============================] - 22s 166ms/step - loss: 0.0183 - accuracy: 0.9926 - val_loss: 0.0067 - val_accuracy: 0.9984\n",
      "Epoch 25/25\n",
      "131/131 [==============================] - 21s 163ms/step - loss: 0.0103 - accuracy: 0.9971 - val_loss: 0.0054 - val_accuracy: 1.0000\n"
     ]
    },
    {
     "data": {
      "text/plain": [
       "<tensorflow.python.keras.callbacks.History at 0x7f1021570760>"
      ]
     },
     "execution_count": 14,
     "metadata": {},
     "output_type": "execute_result"
    }
   ],
   "source": [
    "cnn.fit(x = training_set, validation_data = test_set, epochs = 25)"
   ]
  },
  {
   "cell_type": "code",
   "execution_count": 18,
   "metadata": {},
   "outputs": [
    {
     "name": "stdout",
     "output_type": "stream",
     "text": [
      "Model: \"sequential\"\n",
      "_________________________________________________________________\n",
      "Layer (type)                 Output Shape              Param #   \n",
      "=================================================================\n",
      "conv2d (Conv2D)              (None, 62, 62, 32)        896       \n",
      "_________________________________________________________________\n",
      "max_pooling2d (MaxPooling2D) (None, 31, 31, 32)        0         \n",
      "_________________________________________________________________\n",
      "conv2d_1 (Conv2D)            (None, 29, 29, 32)        9248      \n",
      "_________________________________________________________________\n",
      "max_pooling2d_1 (MaxPooling2 (None, 14, 14, 32)        0         \n",
      "_________________________________________________________________\n",
      "flatten (Flatten)            (None, 6272)              0         \n",
      "_________________________________________________________________\n",
      "dense (Dense)                (None, 128)               802944    \n",
      "_________________________________________________________________\n",
      "dense_1 (Dense)              (None, 1)                 129       \n",
      "=================================================================\n",
      "Total params: 813,217\n",
      "Trainable params: 813,217\n",
      "Non-trainable params: 0\n",
      "_________________________________________________________________\n"
     ]
    }
   ],
   "source": [
    "cnn.summary()"
   ]
  },
  {
   "cell_type": "code",
   "execution_count": 15,
   "metadata": {
    "id": "PZU13pM5bxHk"
   },
   "outputs": [],
   "source": [
    "import numpy as np\n",
    "from keras.preprocessing import image"
   ]
  },
  {
   "cell_type": "code",
   "execution_count": 83,
   "metadata": {},
   "outputs": [],
   "source": [
    "prediction_image = 'single_prediction.jpg'"
   ]
  },
  {
   "cell_type": "code",
   "execution_count": 84,
   "metadata": {},
   "outputs": [],
   "source": [
    "test_image = image.load_img(f'dataset/single_prediction/{specific_train}/{prediction_image}', target_size = image_size)\n",
    "test_image = image.img_to_array(test_image)\n",
    "test_image = np.expand_dims(test_image, axis = 0)\n",
    "result = cnn.predict(test_image)\n",
    "training_set.class_indices\n",
    "if result[0][0] == 1:\n",
    "  prediction = 'Healthly'\n",
    "else:\n",
    "  prediction = 'Diseased'"
   ]
  },
  {
   "cell_type": "code",
   "execution_count": 85,
   "metadata": {
    "id": "8Ymy37SPa7Ye"
   },
   "outputs": [
    {
     "data": {
      "text/plain": [
       "'Diseased'"
      ]
     },
     "execution_count": 85,
     "metadata": {},
     "output_type": "execute_result"
    }
   ],
   "source": [
    "prediction"
   ]
  },
  {
   "cell_type": "markdown",
   "metadata": {},
   "source": [
    "# Saving the model"
   ]
  },
  {
   "cell_type": "code",
   "execution_count": 82,
   "metadata": {},
   "outputs": [
    {
     "name": "stdout",
     "output_type": "stream",
     "text": [
      "INFO:tensorflow:Assets written to: model/corn/assets\n"
     ]
    }
   ],
   "source": [
    "cnn.save(f'model/{specific_train}')"
   ]
  }
 ],
 "metadata": {
  "colab": {
   "collapsed_sections": [],
   "name": "Processador.ipynb",
   "provenance": []
  },
  "kernelspec": {
   "display_name": "Python 3",
   "language": "python",
   "name": "python3"
  },
  "language_info": {
   "codemirror_mode": {
    "name": "ipython",
    "version": 3
   },
   "file_extension": ".py",
   "mimetype": "text/x-python",
   "name": "python",
   "nbconvert_exporter": "python",
   "pygments_lexer": "ipython3",
   "version": "3.8.5"
  }
 },
 "nbformat": 4,
 "nbformat_minor": 4
}
